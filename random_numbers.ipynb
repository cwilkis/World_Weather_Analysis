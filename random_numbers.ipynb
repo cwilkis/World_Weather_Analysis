{
 "cells": [
  {
   "cell_type": "code",
   "execution_count": 1,
   "id": "6b474db9",
   "metadata": {},
   "outputs": [],
   "source": [
    "# Import the random module.\n",
    "import random\n",
    "\n",
    "import numpy as np"
   ]
  },
  {
   "cell_type": "code",
   "execution_count": 4,
   "id": "e40d59d8",
   "metadata": {},
   "outputs": [
    {
     "data": {
      "text/plain": [
       "8"
      ]
     },
     "execution_count": 4,
     "metadata": {},
     "output_type": "execute_result"
    }
   ],
   "source": [
    "random.randint(1,10)"
   ]
  },
  {
   "cell_type": "code",
   "execution_count": 3,
   "id": "1eae7cd2",
   "metadata": {},
   "outputs": [],
   "source": [
    "x = 1\n",
    "latitudes = []\n",
    "while x < 11:\n",
    "    random_lat = random.randint(-90, 89) + random.random()\n",
    "    latitudes.append(random_lat)\n",
    "    x += 1"
   ]
  },
  {
   "cell_type": "code",
   "execution_count": 25,
   "id": "968728fb",
   "metadata": {},
   "outputs": [
    {
     "data": {
      "text/plain": [
       "-88.02312631396207"
      ]
     },
     "execution_count": 25,
     "metadata": {},
     "output_type": "execute_result"
    }
   ],
   "source": [
    "np.random.uniform(-90.000, 90.000)"
   ]
  },
  {
   "cell_type": "code",
   "execution_count": 27,
   "id": "165540d9",
   "metadata": {},
   "outputs": [
    {
     "data": {
      "text/plain": [
       "array([-4.17339690e+01,  1.36233595e+01,  8.84443380e+01,  3.39556346e+01,\n",
       "        1.22713496e+01, -2.59240197e+01, -3.21221362e+01,  7.94088442e+01,\n",
       "       -1.81072734e+01, -6.12493752e+01, -6.68684836e+01, -2.94650407e+01,\n",
       "        5.75972424e+01, -2.38271709e+01,  4.65880529e+01, -3.78470975e+01,\n",
       "       -5.01123870e+01,  5.62282587e+01,  3.61680435e+00,  8.70375154e+01,\n",
       "       -3.03921507e+01,  8.67388848e+01,  1.20199553e+01, -8.27659463e+00,\n",
       "        4.40145635e+01,  8.27758241e+01, -7.87583618e+01, -2.43133092e+01,\n",
       "        8.46436364e+01,  5.05554008e+01,  1.65418433e+01, -7.62782791e+01,\n",
       "       -8.02844433e+01, -6.38666001e+01,  3.83193620e+00,  6.54582900e+01,\n",
       "       -5.46935878e+01,  7.36110134e+01,  1.61334447e+01,  6.87656970e+00,\n",
       "       -2.43855079e+00,  2.82512057e+01,  1.88772391e+01,  5.26703169e+01,\n",
       "       -4.29690285e+01,  7.41605482e-02,  5.25384583e+01,  6.05207323e+01,\n",
       "       -2.12787784e+01, -5.47320172e+01])"
      ]
     },
     "execution_count": 27,
     "metadata": {},
     "output_type": "execute_result"
    }
   ],
   "source": [
    "np.random.uniform(-90.000, 90.000, size=50)"
   ]
  },
  {
   "cell_type": "code",
   "execution_count": 30,
   "id": "ad5886b8",
   "metadata": {},
   "outputs": [
    {
     "name": "stdout",
     "output_type": "stream",
     "text": [
      "11.8 µs ± 1.82 µs per loop (mean ± std. dev. of 7 runs, 100000 loops each)\n"
     ]
    }
   ],
   "source": [
    "# Import timeit.\n",
    "import timeit "
   ]
  },
  {
   "cell_type": "code",
   "execution_count": 31,
   "id": "3cf8b8bd",
   "metadata": {},
   "outputs": [
    {
     "name": "stdout",
     "output_type": "stream",
     "text": [
      "9.84 µs ± 150 ns per loop (mean ± std. dev. of 7 runs, 100000 loops each)\n"
     ]
    }
   ],
   "source": [
    "%timeit np.random.uniform(-90.000, 90.000, size=1500)\n"
   ]
  },
  {
   "cell_type": "code",
   "execution_count": 32,
   "id": "93386ef5",
   "metadata": {},
   "outputs": [
    {
     "name": "stdout",
     "output_type": "stream",
     "text": [
      "1.27 ms ± 28.5 µs per loop (mean ± std. dev. of 7 runs, 1000 loops each)\n"
     ]
    }
   ],
   "source": [
    "def latitudes(size):\n",
    "    latitudes = []\n",
    "    x = 0\n",
    "    while x < (size):\n",
    "        random_lat = random.randint(-90, 90) + random.random()\n",
    "        latitudes.append(random_lat)\n",
    "        x += 1\n",
    "    return latitudes\n",
    "# Call the function with 1500.\n",
    "%timeit latitudes(1500)"
   ]
  }
 ],
 "metadata": {
  "kernelspec": {
   "display_name": "PythonData",
   "language": "python",
   "name": "pythondata"
  },
  "language_info": {
   "codemirror_mode": {
    "name": "ipython",
    "version": 3
   },
   "file_extension": ".py",
   "mimetype": "text/x-python",
   "name": "python",
   "nbconvert_exporter": "python",
   "pygments_lexer": "ipython3",
   "version": "3.7.11"
  }
 },
 "nbformat": 4,
 "nbformat_minor": 5
}
